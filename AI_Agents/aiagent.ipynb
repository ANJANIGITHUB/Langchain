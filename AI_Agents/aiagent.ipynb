{
 "cells": [
  {
   "cell_type": "code",
   "execution_count": 153,
   "id": "dde475bc",
   "metadata": {},
   "outputs": [],
   "source": [
    "#Agentic AI\n",
    "from dotenv import load_dotenv\n",
    "from langchain_openai import ChatOpenAI\n",
    "from langchain_core.tools import tool\n",
    "import requests\n",
    "from langchain_community.tools import DuckDuckGoSearchRun\n",
    "import os\n",
    "from langchain.agents import AgentExecutor,create_react_agent,load_tools\n",
    "from langchain import hub\n",
    "from langchain.agents import initialize_agent, AgentType\n",
    "import warnings\n",
    "warnings.filterwarnings('ignore')"
   ]
  },
  {
   "cell_type": "code",
   "execution_count": 154,
   "id": "798e054b",
   "metadata": {},
   "outputs": [
    {
     "data": {
      "text/plain": [
       "True"
      ]
     },
     "execution_count": 154,
     "metadata": {},
     "output_type": "execute_result"
    }
   ],
   "source": [
    "load_dotenv()"
   ]
  },
  {
   "cell_type": "code",
   "execution_count": 155,
   "id": "e3a69942",
   "metadata": {},
   "outputs": [],
   "source": [
    "search_engine=DuckDuckGoSearchRun()"
   ]
  },
  {
   "cell_type": "code",
   "execution_count": 156,
   "id": "4c3409b3",
   "metadata": {},
   "outputs": [],
   "source": [
    "llm=ChatOpenAI(model=\"gpt-4o-mini\")"
   ]
  },
  {
   "cell_type": "code",
   "execution_count": 157,
   "id": "47a5e344",
   "metadata": {},
   "outputs": [],
   "source": [
    "@tool\n",
    "def get_weather(city:str)->str:\n",
    "    \"\"\"This toll returns weather of the given city\"\"\"\n",
    "    url=f'https://api.weatherstack.com/current?access_key=8540324171779c688a02b4e2b54ecd19&query={city}'\n",
    "    response=requests.get(url)\n",
    "    return response.json()\n"
   ]
  },
  {
   "cell_type": "code",
   "execution_count": null,
   "id": "065e927f",
   "metadata": {},
   "outputs": [],
   "source": [
    "print(search_engine.invoke(\"Top News of India Today\"))"
   ]
  },
  {
   "cell_type": "code",
   "execution_count": 159,
   "id": "efb1d2ee",
   "metadata": {},
   "outputs": [],
   "source": [
    "\n",
    "arxiv_tool = load_tools([\"arxiv\"], llm=llm)[0]  # returns a list, get first tool"
   ]
  },
  {
   "cell_type": "code",
   "execution_count": 160,
   "id": "c5e299db",
   "metadata": {},
   "outputs": [
    {
     "data": {
      "text/plain": [
       "AIMessage(content='Hello! How can I assist you today?', additional_kwargs={'refusal': None}, response_metadata={'token_usage': {'completion_tokens': 9, 'prompt_tokens': 8, 'total_tokens': 17, 'completion_tokens_details': {'accepted_prediction_tokens': 0, 'audio_tokens': 0, 'reasoning_tokens': 0, 'rejected_prediction_tokens': 0}, 'prompt_tokens_details': {'audio_tokens': 0, 'cached_tokens': 0}}, 'model_name': 'gpt-4o-mini-2024-07-18', 'system_fingerprint': 'fp_62a23a81ef', 'finish_reason': 'stop', 'logprobs': None}, id='run--4807f744-6b1c-4066-81cb-7fa7089ea1c1-0', usage_metadata={'input_tokens': 8, 'output_tokens': 9, 'total_tokens': 17, 'input_token_details': {'audio': 0, 'cache_read': 0}, 'output_token_details': {'audio': 0, 'reasoning': 0}})"
      ]
     },
     "execution_count": 160,
     "metadata": {},
     "output_type": "execute_result"
    }
   ],
   "source": [
    "llm.invoke(\"Hi\")"
   ]
  },
  {
   "cell_type": "code",
   "execution_count": null,
   "id": "d32bb780",
   "metadata": {},
   "outputs": [],
   "source": [
    "#pull the ReACT prompt from langchain hub\n",
    "prompt=hub.pull('hwchase17/react')"
   ]
  },
  {
   "cell_type": "code",
   "execution_count": 162,
   "id": "c724b7dd",
   "metadata": {},
   "outputs": [],
   "source": [
    "#create Agent\n",
    "agent=create_react_agent(llm=llm,tools=[search_engine,get_weather,arxiv_tool],prompt=prompt)"
   ]
  },
  {
   "cell_type": "code",
   "execution_count": 163,
   "id": "97b7691b",
   "metadata": {},
   "outputs": [],
   "source": [
    "#create agent executor\n",
    "agent_executor=AgentExecutor(agent=agent,tools=[search_engine,get_weather,arxiv_tool],verbose=False)"
   ]
  },
  {
   "cell_type": "code",
   "execution_count": null,
   "id": "fdf7468c",
   "metadata": {},
   "outputs": [],
   "source": [
    "#execute agent_exector\n",
    "result=agent_executor.invoke({'input':\"What's the paper 1706.03762 about and find the namd and country of main authors of this paper\"})\n",
    "print(result['output'])"
   ]
  },
  {
   "cell_type": "code",
   "execution_count": null,
   "id": "f3ad5a1a",
   "metadata": {},
   "outputs": [],
   "source": [
    "#execute agent_exector\n",
    "result=agent_executor.invoke({'input':'Give me population as of 2024 of capital of India'})\n",
    "print(result['output'])"
   ]
  }
 ],
 "metadata": {
  "kernelspec": {
   "display_name": ".agentenv",
   "language": "python",
   "name": "python3"
  },
  "language_info": {
   "codemirror_mode": {
    "name": "ipython",
    "version": 3
   },
   "file_extension": ".py",
   "mimetype": "text/x-python",
   "name": "python",
   "nbconvert_exporter": "python",
   "pygments_lexer": "ipython3",
   "version": "3.12.10"
  }
 },
 "nbformat": 4,
 "nbformat_minor": 5
}
